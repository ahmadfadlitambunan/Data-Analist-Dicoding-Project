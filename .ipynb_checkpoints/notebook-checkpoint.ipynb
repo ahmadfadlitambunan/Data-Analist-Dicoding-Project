{
 "cells": [
  {
   "cell_type": "markdown",
   "metadata": {
    "id": "H9wADwK78DCz"
   },
   "source": [
    "# Proyek Analisis Data: [Input Nama Dataset]\n",
    "- **Nama:** Ahmad Fadli Tambunan\n",
    "- **Email:** ahmadfadlitambunan12@gmail.com\n",
    "- **ID Dicoding:** aftambunan"
   ]
  },
  {
   "cell_type": "markdown",
   "metadata": {
    "id": "eE0raob58DC0"
   },
   "source": [
    "## Menentukan Pertanyaan Bisnis"
   ]
  },
  {
   "cell_type": "markdown",
   "metadata": {
    "id": "GmQeQ5YF8DC0"
   },
   "source": [
    "- Berapa jumlah pinjaman sepeda pada Senin-Minggu?\n",
    "- Bagaimana cuaca mempengaruhi jumlah peminjaman sepeda?\n",
    "- Bagaimana pengaruh holiday, working day, dan weekend terhadap jumlah peminjaman sepeda?\n",
    "- Berapa rasio perbandingan antara casual user dan registered user?"
   ]
  },
  {
   "cell_type": "markdown",
   "metadata": {
    "id": "H-z4QGlO8DC1"
   },
   "source": [
    "## Import Semua Packages/Library yang Digunakan"
   ]
  },
  {
   "cell_type": "code",
   "execution_count": 1,
   "metadata": {
    "id": "FVYwaObI8DC1"
   },
   "outputs": [],
   "source": [
    "import pandas as pd\n",
    "import numpy as np\n",
    "import matplotlib.pyplot as plt\n",
    "import seaborn as sns\n",
    "import warnings\n",
    "warnings.simplefilter(action='ignore', category=FutureWarning)"
   ]
  },
  {
   "cell_type": "markdown",
   "metadata": {
    "id": "h_Sh51Xy8DC1"
   },
   "source": [
    "## Data Wrangling"
   ]
  },
  {
   "cell_type": "markdown",
   "metadata": {
    "id": "sXU2GBYu8DC1"
   },
   "source": [
    "### Gathering Data"
   ]
  },
  {
   "cell_type": "markdown",
   "metadata": {},
   "source": [
    "Mengimport dataset yang akan digunakan untuk analisis. Dataset yang di-import adalah `day.csv` yang merupakan dataset `bike sharing` berdasarkan hari."
   ]
  },
  {
   "cell_type": "code",
   "execution_count": 2,
   "metadata": {
    "id": "zjCBk1BI8DC1"
   },
   "outputs": [],
   "source": [
    "# import dataset\n",
    "day_df = pd.read_csv('./data/day.csv')"
   ]
  },
  {
   "cell_type": "code",
   "execution_count": 3,
   "metadata": {},
   "outputs": [
    {
     "data": {
      "text/html": [
       "<div>\n",
       "<style scoped>\n",
       "    .dataframe tbody tr th:only-of-type {\n",
       "        vertical-align: middle;\n",
       "    }\n",
       "\n",
       "    .dataframe tbody tr th {\n",
       "        vertical-align: top;\n",
       "    }\n",
       "\n",
       "    .dataframe thead th {\n",
       "        text-align: right;\n",
       "    }\n",
       "</style>\n",
       "<table border=\"1\" class=\"dataframe\">\n",
       "  <thead>\n",
       "    <tr style=\"text-align: right;\">\n",
       "      <th></th>\n",
       "      <th>instant</th>\n",
       "      <th>dteday</th>\n",
       "      <th>season</th>\n",
       "      <th>yr</th>\n",
       "      <th>mnth</th>\n",
       "      <th>holiday</th>\n",
       "      <th>weekday</th>\n",
       "      <th>workingday</th>\n",
       "      <th>weathersit</th>\n",
       "      <th>temp</th>\n",
       "      <th>atemp</th>\n",
       "      <th>hum</th>\n",
       "      <th>windspeed</th>\n",
       "      <th>casual</th>\n",
       "      <th>registered</th>\n",
       "      <th>cnt</th>\n",
       "    </tr>\n",
       "  </thead>\n",
       "  <tbody>\n",
       "    <tr>\n",
       "      <th>0</th>\n",
       "      <td>1</td>\n",
       "      <td>2011-01-01</td>\n",
       "      <td>1</td>\n",
       "      <td>0</td>\n",
       "      <td>1</td>\n",
       "      <td>0</td>\n",
       "      <td>6</td>\n",
       "      <td>0</td>\n",
       "      <td>2</td>\n",
       "      <td>0.344167</td>\n",
       "      <td>0.363625</td>\n",
       "      <td>0.805833</td>\n",
       "      <td>0.160446</td>\n",
       "      <td>331</td>\n",
       "      <td>654</td>\n",
       "      <td>985</td>\n",
       "    </tr>\n",
       "    <tr>\n",
       "      <th>1</th>\n",
       "      <td>2</td>\n",
       "      <td>2011-01-02</td>\n",
       "      <td>1</td>\n",
       "      <td>0</td>\n",
       "      <td>1</td>\n",
       "      <td>0</td>\n",
       "      <td>0</td>\n",
       "      <td>0</td>\n",
       "      <td>2</td>\n",
       "      <td>0.363478</td>\n",
       "      <td>0.353739</td>\n",
       "      <td>0.696087</td>\n",
       "      <td>0.248539</td>\n",
       "      <td>131</td>\n",
       "      <td>670</td>\n",
       "      <td>801</td>\n",
       "    </tr>\n",
       "    <tr>\n",
       "      <th>2</th>\n",
       "      <td>3</td>\n",
       "      <td>2011-01-03</td>\n",
       "      <td>1</td>\n",
       "      <td>0</td>\n",
       "      <td>1</td>\n",
       "      <td>0</td>\n",
       "      <td>1</td>\n",
       "      <td>1</td>\n",
       "      <td>1</td>\n",
       "      <td>0.196364</td>\n",
       "      <td>0.189405</td>\n",
       "      <td>0.437273</td>\n",
       "      <td>0.248309</td>\n",
       "      <td>120</td>\n",
       "      <td>1229</td>\n",
       "      <td>1349</td>\n",
       "    </tr>\n",
       "    <tr>\n",
       "      <th>3</th>\n",
       "      <td>4</td>\n",
       "      <td>2011-01-04</td>\n",
       "      <td>1</td>\n",
       "      <td>0</td>\n",
       "      <td>1</td>\n",
       "      <td>0</td>\n",
       "      <td>2</td>\n",
       "      <td>1</td>\n",
       "      <td>1</td>\n",
       "      <td>0.200000</td>\n",
       "      <td>0.212122</td>\n",
       "      <td>0.590435</td>\n",
       "      <td>0.160296</td>\n",
       "      <td>108</td>\n",
       "      <td>1454</td>\n",
       "      <td>1562</td>\n",
       "    </tr>\n",
       "    <tr>\n",
       "      <th>4</th>\n",
       "      <td>5</td>\n",
       "      <td>2011-01-05</td>\n",
       "      <td>1</td>\n",
       "      <td>0</td>\n",
       "      <td>1</td>\n",
       "      <td>0</td>\n",
       "      <td>3</td>\n",
       "      <td>1</td>\n",
       "      <td>1</td>\n",
       "      <td>0.226957</td>\n",
       "      <td>0.229270</td>\n",
       "      <td>0.436957</td>\n",
       "      <td>0.186900</td>\n",
       "      <td>82</td>\n",
       "      <td>1518</td>\n",
       "      <td>1600</td>\n",
       "    </tr>\n",
       "  </tbody>\n",
       "</table>\n",
       "</div>"
      ],
      "text/plain": [
       "   instant      dteday  season  yr  mnth  holiday  weekday  workingday  \\\n",
       "0        1  2011-01-01       1   0     1        0        6           0   \n",
       "1        2  2011-01-02       1   0     1        0        0           0   \n",
       "2        3  2011-01-03       1   0     1        0        1           1   \n",
       "3        4  2011-01-04       1   0     1        0        2           1   \n",
       "4        5  2011-01-05       1   0     1        0        3           1   \n",
       "\n",
       "   weathersit      temp     atemp       hum  windspeed  casual  registered  \\\n",
       "0           2  0.344167  0.363625  0.805833   0.160446     331         654   \n",
       "1           2  0.363478  0.353739  0.696087   0.248539     131         670   \n",
       "2           1  0.196364  0.189405  0.437273   0.248309     120        1229   \n",
       "3           1  0.200000  0.212122  0.590435   0.160296     108        1454   \n",
       "4           1  0.226957  0.229270  0.436957   0.186900      82        1518   \n",
       "\n",
       "    cnt  \n",
       "0   985  \n",
       "1   801  \n",
       "2  1349  \n",
       "3  1562  \n",
       "4  1600  "
      ]
     },
     "execution_count": 3,
     "metadata": {},
     "output_type": "execute_result"
    }
   ],
   "source": [
    "day_df.head()"
   ]
  },
  {
   "cell_type": "markdown",
   "metadata": {
    "id": "FHSiqaZp8DC1"
   },
   "source": [
    "### Assessing Data"
   ]
  },
  {
   "cell_type": "markdown",
   "metadata": {
    "id": "ax-3tEjc9Cj1"
   },
   "source": [
    "Melihat apakah dataset kredibel atau tidak dengan mengecek `missing value, duplicated row, invalid value, dan sebagainya`"
   ]
  },
  {
   "cell_type": "code",
   "execution_count": 4,
   "metadata": {},
   "outputs": [
    {
     "name": "stdout",
     "output_type": "stream",
     "text": [
      "<class 'pandas.core.frame.DataFrame'>\n",
      "RangeIndex: 731 entries, 0 to 730\n",
      "Data columns (total 16 columns):\n",
      " #   Column      Non-Null Count  Dtype  \n",
      "---  ------      --------------  -----  \n",
      " 0   instant     731 non-null    int64  \n",
      " 1   dteday      731 non-null    object \n",
      " 2   season      731 non-null    int64  \n",
      " 3   yr          731 non-null    int64  \n",
      " 4   mnth        731 non-null    int64  \n",
      " 5   holiday     731 non-null    int64  \n",
      " 6   weekday     731 non-null    int64  \n",
      " 7   workingday  731 non-null    int64  \n",
      " 8   weathersit  731 non-null    int64  \n",
      " 9   temp        731 non-null    float64\n",
      " 10  atemp       731 non-null    float64\n",
      " 11  hum         731 non-null    float64\n",
      " 12  windspeed   731 non-null    float64\n",
      " 13  casual      731 non-null    int64  \n",
      " 14  registered  731 non-null    int64  \n",
      " 15  cnt         731 non-null    int64  \n",
      "dtypes: float64(4), int64(11), object(1)\n",
      "memory usage: 91.5+ KB\n"
     ]
    }
   ],
   "source": [
    "day_df.info()"
   ]
  },
  {
   "cell_type": "markdown",
   "metadata": {},
   "source": [
    "Dari informasi dataset, tidak terdapat missing value dari semua kolom yang ada."
   ]
  },
  {
   "cell_type": "code",
   "execution_count": 5,
   "metadata": {},
   "outputs": [
    {
     "data": {
      "text/plain": [
       "instant       0\n",
       "dteday        0\n",
       "season        0\n",
       "yr            0\n",
       "mnth          0\n",
       "holiday       0\n",
       "weekday       0\n",
       "workingday    0\n",
       "weathersit    0\n",
       "temp          0\n",
       "atemp         0\n",
       "hum           0\n",
       "windspeed     0\n",
       "casual        0\n",
       "registered    0\n",
       "cnt           0\n",
       "dtype: int64"
      ]
     },
     "execution_count": 5,
     "metadata": {},
     "output_type": "execute_result"
    }
   ],
   "source": [
    "day_df.isna().sum()"
   ]
  },
  {
   "cell_type": "markdown",
   "metadata": {},
   "source": [
    "Dari kode di atas juga dapat dipastikan memang dataset tersebut memang tidak ada missing value. Oleh karena itu, missing value bisa kita skip."
   ]
  },
  {
   "cell_type": "code",
   "execution_count": 6,
   "metadata": {},
   "outputs": [
    {
     "name": "stdout",
     "output_type": "stream",
     "text": [
      "Jumlah data duplikat:  0\n"
     ]
    }
   ],
   "source": [
    "# cek data duplikat\n",
    "print(\"Jumlah data duplikat: \", day_df.duplicated().sum())"
   ]
  },
  {
   "cell_type": "markdown",
   "metadata": {},
   "source": [
    "Dataset yang digunakan juga tidak memiliki data yang duplikat, jadi bisa masalah ini bisa di-skip"
   ]
  },
  {
   "cell_type": "code",
   "execution_count": 7,
   "metadata": {},
   "outputs": [
    {
     "name": "stdout",
     "output_type": "stream",
     "text": [
      "<class 'pandas.core.frame.DataFrame'>\n",
      "RangeIndex: 731 entries, 0 to 730\n",
      "Data columns (total 16 columns):\n",
      " #   Column      Non-Null Count  Dtype  \n",
      "---  ------      --------------  -----  \n",
      " 0   instant     731 non-null    int64  \n",
      " 1   dteday      731 non-null    object \n",
      " 2   season      731 non-null    int64  \n",
      " 3   yr          731 non-null    int64  \n",
      " 4   mnth        731 non-null    int64  \n",
      " 5   holiday     731 non-null    int64  \n",
      " 6   weekday     731 non-null    int64  \n",
      " 7   workingday  731 non-null    int64  \n",
      " 8   weathersit  731 non-null    int64  \n",
      " 9   temp        731 non-null    float64\n",
      " 10  atemp       731 non-null    float64\n",
      " 11  hum         731 non-null    float64\n",
      " 12  windspeed   731 non-null    float64\n",
      " 13  casual      731 non-null    int64  \n",
      " 14  registered  731 non-null    int64  \n",
      " 15  cnt         731 non-null    int64  \n",
      "dtypes: float64(4), int64(11), object(1)\n",
      "memory usage: 91.5+ KB\n"
     ]
    }
   ],
   "source": [
    "day_df.info()"
   ]
  },
  {
   "cell_type": "markdown",
   "metadata": {},
   "source": [
    "Dari informasi di atas terdapat tipe variable yang tidak sesuai dengan value-nya, yaitu pada kolom `dteday`. Kolom tersebut menyimpan nilai berupa tanggal namun bertipekan variable `object`/`string`. Oleh karena itu, tipe variabel `dteday` bisa diubah ke `datetime`."
   ]
  },
  {
   "cell_type": "code",
   "execution_count": 8,
   "metadata": {
    "scrolled": true
   },
   "outputs": [
    {
     "data": {
      "text/html": [
       "<div>\n",
       "<style scoped>\n",
       "    .dataframe tbody tr th:only-of-type {\n",
       "        vertical-align: middle;\n",
       "    }\n",
       "\n",
       "    .dataframe tbody tr th {\n",
       "        vertical-align: top;\n",
       "    }\n",
       "\n",
       "    .dataframe thead th {\n",
       "        text-align: right;\n",
       "    }\n",
       "</style>\n",
       "<table border=\"1\" class=\"dataframe\">\n",
       "  <thead>\n",
       "    <tr style=\"text-align: right;\">\n",
       "      <th></th>\n",
       "      <th>instant</th>\n",
       "      <th>dteday</th>\n",
       "      <th>season</th>\n",
       "      <th>yr</th>\n",
       "      <th>mnth</th>\n",
       "      <th>holiday</th>\n",
       "      <th>weekday</th>\n",
       "      <th>workingday</th>\n",
       "      <th>weathersit</th>\n",
       "      <th>temp</th>\n",
       "      <th>atemp</th>\n",
       "      <th>hum</th>\n",
       "      <th>windspeed</th>\n",
       "      <th>casual</th>\n",
       "      <th>registered</th>\n",
       "      <th>cnt</th>\n",
       "    </tr>\n",
       "  </thead>\n",
       "  <tbody>\n",
       "    <tr>\n",
       "      <th>count</th>\n",
       "      <td>731.000000</td>\n",
       "      <td>731</td>\n",
       "      <td>731.000000</td>\n",
       "      <td>731.000000</td>\n",
       "      <td>731.000000</td>\n",
       "      <td>731.000000</td>\n",
       "      <td>731.000000</td>\n",
       "      <td>731.000000</td>\n",
       "      <td>731.000000</td>\n",
       "      <td>731.000000</td>\n",
       "      <td>731.000000</td>\n",
       "      <td>731.000000</td>\n",
       "      <td>731.000000</td>\n",
       "      <td>731.000000</td>\n",
       "      <td>731.000000</td>\n",
       "      <td>731.000000</td>\n",
       "    </tr>\n",
       "    <tr>\n",
       "      <th>unique</th>\n",
       "      <td>NaN</td>\n",
       "      <td>731</td>\n",
       "      <td>NaN</td>\n",
       "      <td>NaN</td>\n",
       "      <td>NaN</td>\n",
       "      <td>NaN</td>\n",
       "      <td>NaN</td>\n",
       "      <td>NaN</td>\n",
       "      <td>NaN</td>\n",
       "      <td>NaN</td>\n",
       "      <td>NaN</td>\n",
       "      <td>NaN</td>\n",
       "      <td>NaN</td>\n",
       "      <td>NaN</td>\n",
       "      <td>NaN</td>\n",
       "      <td>NaN</td>\n",
       "    </tr>\n",
       "    <tr>\n",
       "      <th>top</th>\n",
       "      <td>NaN</td>\n",
       "      <td>2011-01-01</td>\n",
       "      <td>NaN</td>\n",
       "      <td>NaN</td>\n",
       "      <td>NaN</td>\n",
       "      <td>NaN</td>\n",
       "      <td>NaN</td>\n",
       "      <td>NaN</td>\n",
       "      <td>NaN</td>\n",
       "      <td>NaN</td>\n",
       "      <td>NaN</td>\n",
       "      <td>NaN</td>\n",
       "      <td>NaN</td>\n",
       "      <td>NaN</td>\n",
       "      <td>NaN</td>\n",
       "      <td>NaN</td>\n",
       "    </tr>\n",
       "    <tr>\n",
       "      <th>freq</th>\n",
       "      <td>NaN</td>\n",
       "      <td>1</td>\n",
       "      <td>NaN</td>\n",
       "      <td>NaN</td>\n",
       "      <td>NaN</td>\n",
       "      <td>NaN</td>\n",
       "      <td>NaN</td>\n",
       "      <td>NaN</td>\n",
       "      <td>NaN</td>\n",
       "      <td>NaN</td>\n",
       "      <td>NaN</td>\n",
       "      <td>NaN</td>\n",
       "      <td>NaN</td>\n",
       "      <td>NaN</td>\n",
       "      <td>NaN</td>\n",
       "      <td>NaN</td>\n",
       "    </tr>\n",
       "    <tr>\n",
       "      <th>mean</th>\n",
       "      <td>366.000000</td>\n",
       "      <td>NaN</td>\n",
       "      <td>2.496580</td>\n",
       "      <td>0.500684</td>\n",
       "      <td>6.519836</td>\n",
       "      <td>0.028728</td>\n",
       "      <td>2.997264</td>\n",
       "      <td>0.683995</td>\n",
       "      <td>1.395349</td>\n",
       "      <td>0.495385</td>\n",
       "      <td>0.474354</td>\n",
       "      <td>0.627894</td>\n",
       "      <td>0.190486</td>\n",
       "      <td>848.176471</td>\n",
       "      <td>3656.172367</td>\n",
       "      <td>4504.348837</td>\n",
       "    </tr>\n",
       "    <tr>\n",
       "      <th>std</th>\n",
       "      <td>211.165812</td>\n",
       "      <td>NaN</td>\n",
       "      <td>1.110807</td>\n",
       "      <td>0.500342</td>\n",
       "      <td>3.451913</td>\n",
       "      <td>0.167155</td>\n",
       "      <td>2.004787</td>\n",
       "      <td>0.465233</td>\n",
       "      <td>0.544894</td>\n",
       "      <td>0.183051</td>\n",
       "      <td>0.162961</td>\n",
       "      <td>0.142429</td>\n",
       "      <td>0.077498</td>\n",
       "      <td>686.622488</td>\n",
       "      <td>1560.256377</td>\n",
       "      <td>1937.211452</td>\n",
       "    </tr>\n",
       "    <tr>\n",
       "      <th>min</th>\n",
       "      <td>1.000000</td>\n",
       "      <td>NaN</td>\n",
       "      <td>1.000000</td>\n",
       "      <td>0.000000</td>\n",
       "      <td>1.000000</td>\n",
       "      <td>0.000000</td>\n",
       "      <td>0.000000</td>\n",
       "      <td>0.000000</td>\n",
       "      <td>1.000000</td>\n",
       "      <td>0.059130</td>\n",
       "      <td>0.079070</td>\n",
       "      <td>0.000000</td>\n",
       "      <td>0.022392</td>\n",
       "      <td>2.000000</td>\n",
       "      <td>20.000000</td>\n",
       "      <td>22.000000</td>\n",
       "    </tr>\n",
       "    <tr>\n",
       "      <th>25%</th>\n",
       "      <td>183.500000</td>\n",
       "      <td>NaN</td>\n",
       "      <td>2.000000</td>\n",
       "      <td>0.000000</td>\n",
       "      <td>4.000000</td>\n",
       "      <td>0.000000</td>\n",
       "      <td>1.000000</td>\n",
       "      <td>0.000000</td>\n",
       "      <td>1.000000</td>\n",
       "      <td>0.337083</td>\n",
       "      <td>0.337842</td>\n",
       "      <td>0.520000</td>\n",
       "      <td>0.134950</td>\n",
       "      <td>315.500000</td>\n",
       "      <td>2497.000000</td>\n",
       "      <td>3152.000000</td>\n",
       "    </tr>\n",
       "    <tr>\n",
       "      <th>50%</th>\n",
       "      <td>366.000000</td>\n",
       "      <td>NaN</td>\n",
       "      <td>3.000000</td>\n",
       "      <td>1.000000</td>\n",
       "      <td>7.000000</td>\n",
       "      <td>0.000000</td>\n",
       "      <td>3.000000</td>\n",
       "      <td>1.000000</td>\n",
       "      <td>1.000000</td>\n",
       "      <td>0.498333</td>\n",
       "      <td>0.486733</td>\n",
       "      <td>0.626667</td>\n",
       "      <td>0.180975</td>\n",
       "      <td>713.000000</td>\n",
       "      <td>3662.000000</td>\n",
       "      <td>4548.000000</td>\n",
       "    </tr>\n",
       "    <tr>\n",
       "      <th>75%</th>\n",
       "      <td>548.500000</td>\n",
       "      <td>NaN</td>\n",
       "      <td>3.000000</td>\n",
       "      <td>1.000000</td>\n",
       "      <td>10.000000</td>\n",
       "      <td>0.000000</td>\n",
       "      <td>5.000000</td>\n",
       "      <td>1.000000</td>\n",
       "      <td>2.000000</td>\n",
       "      <td>0.655417</td>\n",
       "      <td>0.608602</td>\n",
       "      <td>0.730209</td>\n",
       "      <td>0.233214</td>\n",
       "      <td>1096.000000</td>\n",
       "      <td>4776.500000</td>\n",
       "      <td>5956.000000</td>\n",
       "    </tr>\n",
       "    <tr>\n",
       "      <th>max</th>\n",
       "      <td>731.000000</td>\n",
       "      <td>NaN</td>\n",
       "      <td>4.000000</td>\n",
       "      <td>1.000000</td>\n",
       "      <td>12.000000</td>\n",
       "      <td>1.000000</td>\n",
       "      <td>6.000000</td>\n",
       "      <td>1.000000</td>\n",
       "      <td>3.000000</td>\n",
       "      <td>0.861667</td>\n",
       "      <td>0.840896</td>\n",
       "      <td>0.972500</td>\n",
       "      <td>0.507463</td>\n",
       "      <td>3410.000000</td>\n",
       "      <td>6946.000000</td>\n",
       "      <td>8714.000000</td>\n",
       "    </tr>\n",
       "  </tbody>\n",
       "</table>\n",
       "</div>"
      ],
      "text/plain": [
       "           instant      dteday      season          yr        mnth  \\\n",
       "count   731.000000         731  731.000000  731.000000  731.000000   \n",
       "unique         NaN         731         NaN         NaN         NaN   \n",
       "top            NaN  2011-01-01         NaN         NaN         NaN   \n",
       "freq           NaN           1         NaN         NaN         NaN   \n",
       "mean    366.000000         NaN    2.496580    0.500684    6.519836   \n",
       "std     211.165812         NaN    1.110807    0.500342    3.451913   \n",
       "min       1.000000         NaN    1.000000    0.000000    1.000000   \n",
       "25%     183.500000         NaN    2.000000    0.000000    4.000000   \n",
       "50%     366.000000         NaN    3.000000    1.000000    7.000000   \n",
       "75%     548.500000         NaN    3.000000    1.000000   10.000000   \n",
       "max     731.000000         NaN    4.000000    1.000000   12.000000   \n",
       "\n",
       "           holiday     weekday  workingday  weathersit        temp  \\\n",
       "count   731.000000  731.000000  731.000000  731.000000  731.000000   \n",
       "unique         NaN         NaN         NaN         NaN         NaN   \n",
       "top            NaN         NaN         NaN         NaN         NaN   \n",
       "freq           NaN         NaN         NaN         NaN         NaN   \n",
       "mean      0.028728    2.997264    0.683995    1.395349    0.495385   \n",
       "std       0.167155    2.004787    0.465233    0.544894    0.183051   \n",
       "min       0.000000    0.000000    0.000000    1.000000    0.059130   \n",
       "25%       0.000000    1.000000    0.000000    1.000000    0.337083   \n",
       "50%       0.000000    3.000000    1.000000    1.000000    0.498333   \n",
       "75%       0.000000    5.000000    1.000000    2.000000    0.655417   \n",
       "max       1.000000    6.000000    1.000000    3.000000    0.861667   \n",
       "\n",
       "             atemp         hum   windspeed       casual   registered  \\\n",
       "count   731.000000  731.000000  731.000000   731.000000   731.000000   \n",
       "unique         NaN         NaN         NaN          NaN          NaN   \n",
       "top            NaN         NaN         NaN          NaN          NaN   \n",
       "freq           NaN         NaN         NaN          NaN          NaN   \n",
       "mean      0.474354    0.627894    0.190486   848.176471  3656.172367   \n",
       "std       0.162961    0.142429    0.077498   686.622488  1560.256377   \n",
       "min       0.079070    0.000000    0.022392     2.000000    20.000000   \n",
       "25%       0.337842    0.520000    0.134950   315.500000  2497.000000   \n",
       "50%       0.486733    0.626667    0.180975   713.000000  3662.000000   \n",
       "75%       0.608602    0.730209    0.233214  1096.000000  4776.500000   \n",
       "max       0.840896    0.972500    0.507463  3410.000000  6946.000000   \n",
       "\n",
       "                cnt  \n",
       "count    731.000000  \n",
       "unique          NaN  \n",
       "top             NaN  \n",
       "freq            NaN  \n",
       "mean    4504.348837  \n",
       "std     1937.211452  \n",
       "min       22.000000  \n",
       "25%     3152.000000  \n",
       "50%     4548.000000  \n",
       "75%     5956.000000  \n",
       "max     8714.000000  "
      ]
     },
     "execution_count": 8,
     "metadata": {},
     "output_type": "execute_result"
    }
   ],
   "source": [
    "day_df.describe(include=\"all\")"
   ]
  },
  {
   "cell_type": "markdown",
   "metadata": {},
   "source": [
    "Dari informasi di atas juga tidak ada keaneha pada nilai kolom numerik. Oleh karena itu, tidak ada masalah `inaccurate value` pada dataset."
   ]
  },
  {
   "cell_type": "code",
   "execution_count": null,
   "metadata": {},
   "outputs": [],
   "source": []
  },
  {
   "cell_type": "markdown",
   "metadata": {
    "id": "EhN5R4hr8DC1"
   },
   "source": [
    "### Cleaning Data"
   ]
  },
  {
   "cell_type": "markdown",
   "metadata": {},
   "source": [
    "Merubah tipe data pada kolom `dteday` dari `object` ke `datetime`."
   ]
  },
  {
   "cell_type": "code",
   "execution_count": 9,
   "metadata": {},
   "outputs": [
    {
     "name": "stdout",
     "output_type": "stream",
     "text": [
      "<class 'pandas.core.frame.DataFrame'>\n",
      "RangeIndex: 731 entries, 0 to 730\n",
      "Data columns (total 16 columns):\n",
      " #   Column      Non-Null Count  Dtype         \n",
      "---  ------      --------------  -----         \n",
      " 0   instant     731 non-null    int64         \n",
      " 1   dteday      731 non-null    datetime64[ns]\n",
      " 2   season      731 non-null    int64         \n",
      " 3   yr          731 non-null    int64         \n",
      " 4   mnth        731 non-null    int64         \n",
      " 5   holiday     731 non-null    int64         \n",
      " 6   weekday     731 non-null    int64         \n",
      " 7   workingday  731 non-null    int64         \n",
      " 8   weathersit  731 non-null    int64         \n",
      " 9   temp        731 non-null    float64       \n",
      " 10  atemp       731 non-null    float64       \n",
      " 11  hum         731 non-null    float64       \n",
      " 12  windspeed   731 non-null    float64       \n",
      " 13  casual      731 non-null    int64         \n",
      " 14  registered  731 non-null    int64         \n",
      " 15  cnt         731 non-null    int64         \n",
      "dtypes: datetime64[ns](1), float64(4), int64(11)\n",
      "memory usage: 91.5 KB\n"
     ]
    }
   ],
   "source": [
    "day_df['dteday'] = pd.to_datetime(day_df['dteday'])\n",
    "day_df.info()"
   ]
  },
  {
   "cell_type": "markdown",
   "metadata": {},
   "source": [
    "Karena dataset juga sudah bersih, untuk tahap cleaning cukup sampai di sini saja."
   ]
  },
  {
   "cell_type": "markdown",
   "metadata": {
    "id": "gp-Y6wU38DC1"
   },
   "source": [
    "## Exploratory Data Analysis (EDA)"
   ]
  },
  {
   "cell_type": "markdown",
   "metadata": {},
   "source": [
    "### Pengaruh Cuaca Terhadap Jumlah Peminjaman Sepeda"
   ]
  },
  {
   "cell_type": "code",
   "execution_count": 10,
   "metadata": {
    "id": "e9CQCZjk8DC2"
   },
   "outputs": [
    {
     "name": "stdout",
     "output_type": "stream",
     "text": [
      "Rata-rata Jumlah Peminjaman Berdasarkan Cuaca :\n",
      "  weathersit     cnt\n",
      "       Cerah 2257952\n",
      "    Berkabut  996858\n",
      "Hujan Ringan   37869\n",
      " Hujan Lebat       0\n"
     ]
    }
   ],
   "source": [
    "# Copy dataframe utama ke dataframe temporary\n",
    "temp_df = day_df.copy()\n",
    "\n",
    "# Melakukan mapping dan rename kolom untuk output lebih jelas\n",
    "temp_df['weathersit'] = temp_df['weathersit'].map({\n",
    "    1 : 'Cerah',\n",
    "    2 : 'Berkabut',\n",
    "    3 : 'Hujan Ringan',\n",
    "    4 : 'Hujan Lebat'\n",
    "})\n",
    "\n",
    "# Membuat pivot table weathersit\n",
    "pivot_table_by_season = temp_df.groupby(by='weathersit').agg({\n",
    "    'cnt':'sum'\n",
    "}).reindex(['Cerah', 'Berkabut', 'Hujan Ringan', 'Hujan Lebat'], fill_value = 0).reset_index()\n",
    "\n",
    "# mengatur format output\n",
    "pd.options.display.float_format = '{:.2f}'.format\n",
    "\n",
    "print(\"Rata-rata Jumlah Peminjaman Berdasarkan Cuaca :\")\n",
    "print(pivot_table_by_season.to_string(index=False))"
   ]
  },
  {
   "cell_type": "markdown",
   "metadata": {},
   "source": [
    "Dari informasi di atas, saat hujan lebat tidak ada satupun yang melakukan peminjaman sepeda yang mana merupakan yang hal yang wajar. Untuk cuaca terbaik untuk meminjam sepeda adalah saat cuaca sedang cerah."
   ]
  },
  {
   "cell_type": "markdown",
   "metadata": {},
   "source": [
    "### Pengaruh Holiday, Weekday/Working Day, dan Weekend Terhadap Jumlah Peminjaman Sepeda"
   ]
  },
  {
   "cell_type": "code",
   "execution_count": 11,
   "metadata": {},
   "outputs": [
    {
     "name": "stdout",
     "output_type": "stream",
     "text": [
      "Jumlah Peminjaman Berdasarkan Holiday :\n",
      "holiday     cnt\n",
      "  Tidak   78435\n",
      "     Ya 3214244\n",
      "\n",
      "============================================================\n",
      "\n",
      "Jumlah Peminjaman Berdasarkan Hari :\n",
      "weekday    cnt\n",
      "  Senin 455503\n",
      " Selasa 469109\n",
      "   Rabu 473048\n",
      "  Kamis 485395\n",
      " Jum'at 487790\n",
      "  Sabtu 477807\n",
      " Minggu 444027\n",
      "\n",
      "============================================================\n",
      "\n",
      "Jumlah Peminjaman Berdasarkan Hari Kerja :\n",
      "workingday     cnt\n",
      "     Tidak 1000269\n",
      "        Ya 2292410\n",
      "\n",
      "============================================================\n",
      "\n",
      "Jumlah Peminjaman Berdasarkan Weekend dan Weekday:\n",
      "weekend     cnt\n",
      "  Tidak 2370845\n",
      "     Ya  921834\n"
     ]
    }
   ],
   "source": [
    "# Copy dataframe utama ke dataframe temporary\n",
    "temp_df = day_df.copy()\n",
    "\n",
    "# Membuat kolom baru untuk weekend atau tidak\n",
    "temp_df['weekend'] = temp_df['weekday'].apply(lambda x: 'Tidak' if x in [1,2,3,4,5] else 'Ya')\n",
    "temp_df['weekend']\n",
    "\n",
    "# Melakukan mapping untuk output lebih jelas\n",
    "temp_df['holiday'] = temp_df['holiday'].map({\n",
    "    0 : 'Ya',\n",
    "    1 : 'Tidak'\n",
    "})\n",
    "\n",
    "temp_df['weekday'] = temp_df['weekday'].map({\n",
    "    0 : 'Minggu',\n",
    "    1 : 'Senin',\n",
    "    2 : 'Selasa',\n",
    "    3 : 'Rabu',\n",
    "    4 : 'Kamis',\n",
    "    5 : 'Jum\\'at',\n",
    "    6 : 'Sabtu'\n",
    "})\n",
    "\n",
    "temp_df['workingday'] = temp_df['workingday'].map({\n",
    "    1 : 'Ya',\n",
    "    0 : 'Tidak'\n",
    "})\n",
    "\n",
    "\n",
    "# Membuat pivot table\n",
    "pivot_table_by_holiday = temp_df.groupby(by='holiday').agg({\n",
    "    'cnt':'sum'\n",
    "}).reset_index()\n",
    "\n",
    "pivot_table_by_day = temp_df.groupby(by='weekday').agg({\n",
    "    'cnt' : 'sum'\n",
    "}).reindex(['Senin', 'Selasa', 'Rabu', 'Kamis', 'Jum\\'at', 'Sabtu', 'Minggu']).reset_index()\n",
    "\n",
    "pivot_table_by_working_day = temp_df.groupby(by='workingday').agg({\n",
    "    'cnt' : 'sum'\n",
    "}).reset_index()\n",
    "\n",
    "pivot_table_by_weekend_weekday = temp_df.groupby(by='weekend').agg({\n",
    "    'cnt' :'sum'\n",
    "}).reset_index()\n",
    "\n",
    "# mengatur format output\n",
    "pd.options.display.float_format = '{:.2f}'.format\n",
    "\n",
    "print(\"Jumlah Peminjaman Berdasarkan Holiday :\")\n",
    "print(pivot_table_by_holiday.to_string(index=False))\n",
    "print(\"\\n============================================================\\n\")\n",
    "print(\"Jumlah Peminjaman Berdasarkan Hari :\")\n",
    "print(pivot_table_by_day.to_string(index=False))\n",
    "print(\"\\n============================================================\\n\")\n",
    "print(\"Jumlah Peminjaman Berdasarkan Hari Kerja :\")\n",
    "print(pivot_table_by_working_day.to_string(index=False))\n",
    "print(\"\\n============================================================\\n\")\n",
    "print(\"Jumlah Peminjaman Berdasarkan Weekend dan Weekday:\")\n",
    "print(pivot_table_by_weekend_weekday.to_string(index=False))"
   ]
  },
  {
   "cell_type": "markdown",
   "metadata": {},
   "source": [
    "### Perbandingan Casual User dan Registered User"
   ]
  },
  {
   "cell_type": "code",
   "execution_count": 12,
   "metadata": {},
   "outputs": [
    {
     "name": "stdout",
     "output_type": "stream",
     "text": [
      "Perbandingan Jenis User Casual dan Registered :\n",
      "\n",
      " Tipe User  Jumlah Peminjaman  Persentase (%)\n",
      "    Casual             620017           18.83\n",
      "Registered            2672662           81.17\n"
     ]
    }
   ],
   "source": [
    "# Mencari Total Jumlah User\n",
    "sum_casual = day_df['casual'].sum()\n",
    "sum_registered = day_df['registered'].sum()\n",
    "\n",
    "# Hitung persentase\n",
    "persentase_casual = (sum_casual/(sum_casual + sum_registered)) * 100\n",
    "# persentase_registered = ((sum_casual + sum_registered)/sum_registered) * 100\n",
    "\n",
    "# buat tabel pivot\n",
    "df = pd.DataFrame({\n",
    "    'Tipe User' : ['Casual', 'Registered'],\n",
    "    'Jumlah Peminjaman' : [sum_casual, sum_registered],\n",
    "    'Persentase (%)': [persentase_casual, 100-persentase_casual]\n",
    "})\n",
    "\n",
    "# print output\n",
    "print(\"Perbandingan Jenis User Casual dan Registered :\\n\")\n",
    "print(df.to_string(index=False))"
   ]
  },
  {
   "cell_type": "markdown",
   "metadata": {
    "id": "zsyZjqak8DC2"
   },
   "source": [
    "## Visualization & Explanatory Analysis"
   ]
  },
  {
   "cell_type": "markdown",
   "metadata": {
    "id": "HZxOiQ6n8DC2"
   },
   "source": [
    "### Pertanyaan 1: Berapa total rental sepeda dari Senin-Minggu?"
   ]
  },
  {
   "cell_type": "code",
   "execution_count": 13,
   "metadata": {
    "id": "1swJUdAD8DC2"
   },
   "outputs": [
    {
     "data": {
      "image/png": "[encoded data removed]",
      "text/plain": [
       "<Figure size 1000x500 with 1 Axes>"
      ]
     },
     "metadata": {},
     "output_type": "display_data"
    }
   ],
   "source": [
    "temp_df = day_df.copy()\n",
    "\n",
    "temp_df['weekday'] = temp_df['weekday'].map({\n",
    "    0 : 'Minggu',\n",
    "    1 : 'Senin',\n",
    "    2 : 'Selasa',\n",
    "    3 : 'Rabu',\n",
    "    4 : 'Kamis',\n",
    "    5 : 'Jum\\'at',\n",
    "    6 : 'Sabtu'\n",
    "})\n",
    "\n",
    "colors = [\"#f5d7b0\", \"#f5d7b0\", \"#f5d7b0\",  \"#f5d7b0\",\"#d15b56\", \"#f5d7b0\", \"#f5d7b0\"]\n",
    "by_day_df = temp_df.groupby(by='weekday').agg({\n",
    "    'cnt' : 'sum'\n",
    "}).reindex(['Senin', 'Selasa', 'Rabu', 'Kamis', 'Jum\\'at', 'Sabtu', 'Minggu']).reset_index()\n",
    "\n",
    "\n",
    "plt.figure(figsize=(10, 5))\n",
    "\n",
    "# membuat data\n",
    "days = [x for x in by_day_df['weekday']]\n",
    "total = [y/100000 for y in by_day_df['cnt']]\n",
    "\n",
    "# membuat plot bar\n",
    "plt.bar(days, total, color = colors, width=0.8, alpha=0.8)\n",
    "plt.plot(days, total)\n",
    "plt.scatter(days, total)\n",
    "\n",
    "plt.title(\"Total Peminjaman Sepeda dari Senin-Minggu\", loc=\"center\", fontsize=15)\n",
    "plt.ylabel(\"Total Pinjaman (ratusan ribu)\")\n",
    "plt.xlabel(None)\n",
    "plt.tick_params(axis='x', labelsize=12)\n",
    "plt.show()"
   ]
  },
  {
   "cell_type": "markdown",
   "metadata": {
    "id": "DgHI7CiU8DC2"
   },
   "source": [
    "### Pertanyaan 2: Bagaimana cuaca mempengaruh jumlah peminjaman sepeda?"
   ]
  },
  {
   "cell_type": "code",
   "execution_count": 14,
   "metadata": {
    "id": "Go0lCsvO8DC2"
   },
   "outputs": [
    {
     "data": {
      "image/png": "[encoded data removed]",
      "text/plain": [
       "<Figure size 1000x500 with 1 Axes>"
      ]
     },
     "metadata": {},
     "output_type": "display_data"
    }
   ],
   "source": [
    "# Copy dataframe utama ke dataframe temporary\n",
    "temp_df = day_df.copy()\n",
    "\n",
    "# Melakukan mapping dan rename kolom untuk output lebih jelas\n",
    "temp_df['weathersit'] = temp_df['weathersit'].map({\n",
    "    1 : 'Cerah',\n",
    "    2 : 'Berkabut',\n",
    "    3 : 'Hujan Ringan',\n",
    "    4 : 'Hujan Lebat'\n",
    "})\n",
    "\n",
    "# Membuat pivot table weathersit\n",
    "by_weather_df = temp_df.groupby(by='weathersit').agg({\n",
    "    'cnt':'sum'\n",
    "}).reindex(['Cerah', 'Berkabut', 'Hujan Ringan', 'Hujan Lebat'], fill_value = 0).reset_index()\n",
    "\n",
    "plt.figure(figsize=(10, 5))\n",
    "\n",
    "colors = [\"#d15b56\", \"#f5d7b0\", \"#f5d7b0\", \"#f5d7b0\"]\n",
    "\n",
    "# membuat plot bar\n",
    "sns.barplot(x = by_weather_df['weathersit'], y = by_weather_df['cnt'], palette = colors)\n",
    "\n",
    "plt.title(\"Total Peminjaman Sepeda Berdasarkan Cuaca\", loc=\"center\", fontsize=15)\n",
    "plt.ylabel(\"Total Pinjaman (juta)\")\n",
    "plt.xlabel(None)\n",
    "plt.tick_params(axis='x', labelsize=12)\n",
    "plt.show()"
   ]
  },
  {
   "cell_type": "markdown",
   "metadata": {},
   "source": [
    "### Pertanyaan 3: Bagaimana pengaruh holiday, working day, dan weekend terhadap jumlah peminjaman sepeda?"
   ]
  },
  {
   "cell_type": "code",
   "execution_count": 15,
   "metadata": {},
   "outputs": [
    {
     "data": {
      "image/png": "[encoded data removed]",
      "text/plain": [
       "<Figure size 2000x400 with 3 Axes>"
      ]
     },
     "metadata": {},
     "output_type": "display_data"
    }
   ],
   "source": [
    "# Copy dataframe utama ke dataframe temporary\n",
    "temp_df = day_df.copy()\n",
    "    \n",
    "# Membuat kolom baru untuk weekend atau tidak\n",
    "temp_df['weekend'] = temp_df['weekday'].apply(lambda x: 'Tidak' if x in [1,2,3,4,5] else 'Ya')\n",
    "temp_df['weekend']\n",
    "\n",
    "# Melakukan mapping untuk output lebih jelas\n",
    "temp_df['holiday'] = temp_df['holiday'].map({\n",
    "    0 : 'Ya',\n",
    "    1 : 'Tidak'\n",
    "})\n",
    "\n",
    "temp_df['workingday'] = temp_df['workingday'].map({\n",
    "    1 : 'Ya',\n",
    "    0 : 'Tidak'\n",
    "})\n",
    "\n",
    "\n",
    "# Membuat pivot table\n",
    "pivot_table_by_holiday = temp_df.groupby(by='holiday').agg({\n",
    "    'cnt':'sum'\n",
    "}).reindex(['Ya', 'Tidak']).reset_index()\n",
    "\n",
    "pivot_table_by_weekend = temp_df.groupby(by='weekend').agg({\n",
    "    'cnt' :'sum'\n",
    "}).reindex(['Ya', 'Tidak']).reset_index()\n",
    "\n",
    "pivot_table_by_working_day = temp_df.groupby(by='workingday').agg({\n",
    "    'cnt' : 'sum'\n",
    "}).reindex(['Ya', 'Tidak']).reset_index()\n",
    "\n",
    "# membuat visualisasi\n",
    "fig, (ax1, ax2, ax3) = plt.subplots(nrows=1, ncols=3, figsize = (20, 4))\n",
    "colors = [\"#d15b56\",\"#f5d7b0\"]\n",
    "\n",
    "# visualisasi holiday\n",
    "sns.barplot(x = 'holiday', y = 'cnt', data = pivot_table_by_holiday, palette=colors, ax = ax1)\n",
    "ax1.set_title(\"Jumlah Peminjaman Sepeda berdasarkan Holiday\")\n",
    "ax1.set_xlabel(\"Holiday (Ya/Tidak)\")\n",
    "ax1.set_ylabel(\"Jumlah Peminjaman (juta)\")\n",
    "\n",
    "# visualisasi weekend\n",
    "sns.barplot(x = 'workingday', y = 'cnt', data = pivot_table_by_working_day, palette=colors, ax=ax2)\n",
    "ax2.set_title(\"Jumlah Peminjaman Sepeda berdasarkan Working Day\")\n",
    "ax2.set_xlabel(\"Working Day (Ya/Tidak)\")\n",
    "ax2.set_ylabel(\"Jumlah Peminjaman (juta)\")\n",
    "\n",
    "# visualisasi weekend\n",
    "sns.barplot(x = 'weekend', y = 'cnt', data = pivot_table_by_weekend, palette=colors, ax=ax3)\n",
    "ax3.set_title(\"Jumlah Peminjaman Sepeda berdasarkan Weekend\")\n",
    "ax3.set_xlabel(\"Weekend (Ya/Tidak)\")\n",
    "ax3.set_ylabel(\"Jumlah Peminjaman (juta)\")\n",
    "plt.show()\n"
   ]
  },
  {
   "cell_type": "markdown",
   "metadata": {},
   "source": [
    "### Pertanyaan 4: Berapa Perbandingan Rasio antara Pengguna `Casual` dan `Registered`?"
   ]
  },
  {
   "cell_type": "code",
   "execution_count": 16,
   "metadata": {},
   "outputs": [
    {
     "data": {
      "image/png": "[encoded data removed]",
      "text/plain": [
       "<Figure size 600x600 with 1 Axes>"
      ]
     },
     "metadata": {},
     "output_type": "display_data"
    }
   ],
   "source": [
    "# Mencari Total Jumlah User\n",
    "sum_casual = day_df['casual'].sum()\n",
    "sum_registered = day_df['registered'].sum()\n",
    "\n",
    "# Hitung persentase\n",
    "persentase_casual = (sum_casual/(sum_casual + sum_registered)) * 100\n",
    "# persentase_registered = ((sum_casual + sum_registered)/sum_registered) * 100\n",
    "\n",
    "# buat tabel pivot\n",
    "df = pd.DataFrame({\n",
    "    'Tipe User' : ['Casual', 'Registered'],\n",
    "    'Jumlah Peminjaman' : [sum_casual, sum_registered],\n",
    "    'Persentase': [persentase_casual, 100-persentase_casual]\n",
    "})\n",
    "\n",
    "# buat visualisasi pie chart\n",
    "colors = [\"#f5d7b0\",\"#d15b56\"]\n",
    "plt.figure(figsize=(6, 6))\n",
    "plt.title(\"Rasio Perbandingan Antara User Casual dan User Registered\")\n",
    "\n",
    "# Plotting Pie Chart\n",
    "plt.pie(df['Persentase'], labels=df['Tipe User'], autopct='%1.1f%%', colors = colors, explode=(0.05, 0))\n",
    "plt.legend(df['Jumlah Peminjaman'], loc=\"center left\", title=\"Angka Peminjaman\", bbox_to_anchor=(1, 0, 0.5, 1))\n",
    "plt.show()"
   ]
  },
  {
   "cell_type": "markdown",
   "metadata": {
    "id": "_WeHlCeX8DC2"
   },
   "source": [
    "## Conclusion"
   ]
  },
  {
   "cell_type": "markdown",
   "metadata": {
    "id": "ZTcyR48Y8DC2"
   },
   "source": [
    "### Pertanyaan 1: Berapa total rental sepeda dari Senin-Minggu?\n",
    "Berdasarkan dari visualisasi data `total peminjaman berdasarkan hari`, hari dengan total pinjaman terbanyak adalah pada hari **Jum'at**, diikuti dengan hari **Kamis** dengan perbedaan selisih yang cukup kecil. Untuk dari dengan total peminjaman terkecil adalah di hari **Minggu**. Jika melihat dari line pada visualisasi data tersebut, jumlah peminjaman sepeda meningkat secara teratur setiap harinya, di mulai dari hari **Minggu** (Terkecil) sampai dengan hari **Jum'at** (Terbesar). Maka dapat disimpulkan, pengguna banyak menyewa sepeda pada hari terakhir kerja (Jum'at dan Sabtu), dan pada hari weekend peminjaman sepeda menurun."
   ]
  },
  {
   "cell_type": "markdown",
   "metadata": {},
   "source": [
    "### Pertanyaan 2: Bagaimana cuaca mempengaruh jumlah peminjaman sepeda?\n",
    "Dari visualisasi `Total Peminjaman Sepeda Berdasarkan Cuaca`, dapat simpulkan bahwa para pengguna layanan rental sepeda mayoritas memilih untuk menyewa sepeda saat cuaca sedang **Cerah**. Terdapat perbedaan total peminjaman yang cukup signifikan antara cuaca Cerah dengan cuaca lainnya (Berkabut, Hujan Ringan, Hujan Lebat). Dari sini juga dapat kita simpulkan, cuaca sangat berperah terhadap banyaknya peminjaman yang dilakukan. Di mana saat cuaca **Berkabut**, pengguna sadar bahwa jarak pandang akan menurun dan berpotensi minumbulkan kecelakaan, serta pada cuaca **Hujan**, baik ringan maupun hujan, tentunya pengguna sepeda memilih untuk naik transportasi lain yang tidak menyebabkan pengguna kehujanan. "
   ]
  },
  {
   "cell_type": "markdown",
   "metadata": {},
   "source": [
    "### Pertanyaan 3: Bagaimana pengaruh holiday, working day, dan weekend terhadap jumlah peminjaman sepeda?\n",
    "Hari Libur (**Holiday**), Hari Kerja (**Working Day**), dan Akhir Pekan (**Weekend**) sangat berpengaruh pada jumlah peminjaman sepeda. Berdasarkan bar chart di atas, jumlah peminjaman pada hari libur (**Holiday**) sangat sedikit. Hal ini juga didukung dengan chart yang menunjukkan bahwa saat hari kerja (**Working Day**), total peminjaman juga lebih banyak. Hal tersebut juga diperkuat bahwa pada hari akhir pekan (**Weekend**), total peminjaman jauh lebih sedikit dibandingkan **Workday**. Maka dapat disimpulkan, banyak pengguna menyewa sepeda sebagai transportasi kerja."
   ]
  },
  {
   "cell_type": "markdown",
   "metadata": {},
   "source": [
    "### Pertanyaan 4: Berapa Perbandingan Rasio antara Pengguna Casual dan Registered?\n",
    "Dari pie chart `Rasio Perbandingan Antara User Casual dan User Registered`, lebih dari 80% pengguna rental sepeda bertipekan Registered User (Pengguna Terdaftar). Perbedaan yang cukup besar antara pengguna Casual dengan Registered. Namun hal ini wajar terjadi, karena pengguna yang terdaftar biasanya menjadikan sepeda menjadi layanan transportasi sehari hari."
   ]
  },
  {
   "cell_type": "code",
   "execution_count": 17,
   "metadata": {},
   "outputs": [],
   "source": [
    "# Export All DataFrame\n",
    "day_df.to_csv(\"all_data.csv\", index=False)"
   ]
  }
 ],
 "metadata": {
  "colab": {
   "provenance": []
  },
  "kernelspec": {
   "display_name": "Python 3 (ipykernel)",
   "language": "python",
   "name": "python3"
  },
  "language_info": {
   "codemirror_mode": {
    "name": "ipython",
    "version": 3
   },
   "file_extension": ".py",
   "mimetype": "text/x-python",
   "name": "python",
   "nbconvert_exporter": "python",
   "pygments_lexer": "ipython3",
   "version": "3.11.4"
  },
  "vscode": {
   "interpreter": {
    "hash": "972b3bf27e332e87b5379f2791f6ef9dfc79c71018c370b0d7423235e20fe4d7"
   }
  }
 },
 "nbformat": 4,
 "nbformat_minor": 1
}
